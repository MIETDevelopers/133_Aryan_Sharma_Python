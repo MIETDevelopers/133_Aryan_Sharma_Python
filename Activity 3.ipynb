{
 "cells": [
  {
   "cell_type": "code",
   "execution_count": 34,
   "id": "3d63bbee",
   "metadata": {},
   "outputs": [
    {
     "name": "stdout",
     "output_type": "stream",
     "text": [
      "Enter starting index : 1\n",
      "Enter ending index : 21\n",
      "elcome to Python wor\n",
      "Is alphanumeric :  False\n",
      "Number of characters : 20\n"
     ]
    }
   ],
   "source": [
    "s=\"Welcome to Python world\"\n",
    "alpha=0\n",
    "for i in s:\n",
    "    if (i.isalnum()):\n",
    "        alpha+=1\n",
    "\n",
    "a=int(input(\"Enter starting index : \"))\n",
    "b=int(input(\"Enter ending index : \"))\n",
    "if b<a:\n",
    "    print('error')\n",
    "else:\n",
    "    print(s[a:b])\n",
    "print(\"Is alphanumeric : \",s.isalnum())\n",
    "print(\"Number of characters :\",alpha)"
   ]
  },
  {
   "cell_type": "code",
   "execution_count": null,
   "id": "3c7907fc",
   "metadata": {},
   "outputs": [],
   "source": []
  }
 ],
 "metadata": {
  "kernelspec": {
   "display_name": "Python 3 (ipykernel)",
   "language": "python",
   "name": "python3"
  },
  "language_info": {
   "codemirror_mode": {
    "name": "ipython",
    "version": 3
   },
   "file_extension": ".py",
   "mimetype": "text/x-python",
   "name": "python",
   "nbconvert_exporter": "python",
   "pygments_lexer": "ipython3",
   "version": "3.9.12"
  }
 },
 "nbformat": 4,
 "nbformat_minor": 5
}
