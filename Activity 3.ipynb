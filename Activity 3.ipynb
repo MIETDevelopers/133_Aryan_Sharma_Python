{
 "cells": [
  {
   "cell_type": "code",
   "execution_count": 18,
   "id": "3d63bbee",
   "metadata": {},
   "outputs": [
    {
     "name": "stdout",
     "output_type": "stream",
     "text": [
      "Nunmer of characters : 23\n",
      "Enter starting index : 12\n",
      "Enter ending index : 10\n",
      "error\n",
      "Is alphanumeric :  False\n"
     ]
    }
   ],
   "source": [
    "s=\"Welcome to Python world\"\n",
    "print(\"Nunmer of characters :\",len(s))\n",
    "a=int(input(\"Enter starting index : \"))\n",
    "b=int(input(\"Enter ending index : \"))\n",
    "if b<a:\n",
    "    print('error')\n",
    "else:\n",
    "    print(s[a:b])\n",
    "print(\"Is alphanumeric : \",s.isalnum())"
   ]
  },
  {
   "cell_type": "code",
   "execution_count": null,
   "id": "53798ed1",
   "metadata": {},
   "outputs": [],
   "source": []
  }
 ],
 "metadata": {
  "kernelspec": {
   "display_name": "Python 3 (ipykernel)",
   "language": "python",
   "name": "python3"
  },
  "language_info": {
   "codemirror_mode": {
    "name": "ipython",
    "version": 3
   },
   "file_extension": ".py",
   "mimetype": "text/x-python",
   "name": "python",
   "nbconvert_exporter": "python",
   "pygments_lexer": "ipython3",
   "version": "3.9.12"
  }
 },
 "nbformat": 4,
 "nbformat_minor": 5
}
